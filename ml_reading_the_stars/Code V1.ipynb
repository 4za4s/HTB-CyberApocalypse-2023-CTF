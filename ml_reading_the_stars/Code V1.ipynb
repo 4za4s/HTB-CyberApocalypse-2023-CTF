{
 "cells": [
  {
   "cell_type": "code",
   "execution_count": 15,
   "metadata": {
    "cell_id": "888ef7b8db0143c4abf63348c582ffa7",
    "deepnote_app_coordinates": {
     "h": 16,
     "w": 12,
     "x": 0,
     "y": 6
    },
    "deepnote_cell_type": "code",
    "deepnote_to_be_reexecuted": false,
    "execution_millis": 2006,
    "execution_start": 1678285664107,
    "source_hash": "d1ecb257",
    "tags": []
   },
   "outputs": [],
   "source": [
    "import numpy as np\n",
    "import matplotlib.pyplot as plt\n",
    "import matplotlib\n",
    "\n",
    "import torch\n",
    "from torch import nn\n",
    "from torchvision import transforms\n",
    "import torchvision\n",
    "preprocess = transforms.Compose([\n",
    "    transforms.Normalize(\n",
    "        mean=np.array([0.1086, 0.0934, 0.0711]),\n",
    "        std=np.array([0.1472, 0.123, 0.1032]))\n",
    "])\n",
    "\n",
    "import h5py\n",
    "\n",
    "SEED = 1337\n",
    "torch.manual_seed(SEED)\n",
    "np.random.seed(SEED)\n",
    "torch.use_deterministic_algorithms(True)\n",
    "\n",
    "from model import StarChartModel, StarData"
   ]
  },
  {
   "cell_type": "code",
   "execution_count": 16,
   "metadata": {
    "cell_id": "8688086be0924bc1ac32923003ba0eef",
    "deepnote_app_coordinates": {
     "h": 5,
     "w": 12,
     "x": 0,
     "y": 23
    },
    "deepnote_cell_type": "code",
    "deepnote_to_be_reexecuted": false,
    "execution_millis": 296,
    "execution_start": 1678285666114,
    "source_hash": "cc097ebf",
    "tags": []
   },
   "outputs": [],
   "source": [
    "with h5py.File(\"train.1.h5\", \"r\") as F:\n",
    "    train_images1 = np.array(F[\"X\"])\n",
    "    train_labels1 = np.array(F[\"y\"])\n",
    "with h5py.File(\"train.2.h5\", \"r\") as F:\n",
    "    train_images2 = np.array(F[\"X\"])\n",
    "    train_labels2 = np.array(F[\"y\"])\n",
    "train_images = np.concatenate((train_images1, train_images2))\n",
    "train_labels = np.concatenate((train_labels1, train_labels2))"
   ]
  },
  {
   "cell_type": "code",
   "execution_count": 17,
   "metadata": {
    "cell_id": "88421b5f96204c07bad50bcb5353e295",
    "deepnote_app_coordinates": {
     "h": 6,
     "w": 12,
     "x": 0,
     "y": 29
    },
    "deepnote_cell_type": "code",
    "deepnote_to_be_reexecuted": false,
    "execution_millis": 364,
    "execution_start": 1678285666411,
    "source_hash": "76bc7c78",
    "tags": []
   },
   "outputs": [],
   "source": [
    "batch_size = 32\n",
    "train_set = StarData((train_images.transpose(0,3,1,2)/255), train_labels, transform=preprocess)\n",
    "train_loader = torch.utils.data.DataLoader(train_set, batch_size=batch_size,\n",
    "    shuffle=True, num_workers=1, pin_memory=True)"
   ]
  },
  {
   "cell_type": "code",
   "execution_count": 18,
   "metadata": {
    "cell_id": "a8879eef501d4a499f3ad5a0c6abc27f",
    "deepnote_app_coordinates": {
     "h": 3,
     "w": 12,
     "x": 0,
     "y": 36
    },
    "deepnote_cell_type": "code",
    "deepnote_to_be_reexecuted": false,
    "execution_millis": 4,
    "execution_start": 1678285666776,
    "source_hash": "bad507f7",
    "tags": []
   },
   "outputs": [],
   "source": [
    "flag = np.zeros((33,33))"
   ]
  },
  {
   "cell_type": "code",
   "execution_count": 19,
   "metadata": {
    "cell_id": "47f7c61bf5f641639e244778ce94f8fb",
    "deepnote_cell_type": "code",
    "tags": []
   },
   "outputs": [],
   "source": [
    "model = StarChartModel([0.3,0.15])\n",
    "model.train()\n",
    "\n",
    "loss_func = nn.CrossEntropyLoss()\n",
    "optimizer = torch.optim.Adam(model.parameters(), 0.0005)"
   ]
  },
  {
   "cell_type": "code",
   "execution_count": 20,
   "metadata": {},
   "outputs": [
    {
     "name": "stdout",
     "output_type": "stream",
     "text": [
      "[1,    32] loss: 0.691\n",
      "[1,    64] loss: 0.667\n",
      "[1,    96] loss: 0.695\n",
      "[1,   128] loss: 0.666\n",
      "[1,   160] loss: 0.666\n",
      "[1,   192] loss: 0.658\n",
      "[1,   224] loss: 0.644\n",
      "[1,   256] loss: 0.616\n",
      "[1,   288] loss: 0.604\n",
      "[1,   320] loss: 0.604\n"
     ]
    },
    {
     "data": {
      "text/plain": [
       "<All keys matched successfully>"
      ]
     },
     "execution_count": 20,
     "metadata": {},
     "output_type": "execute_result"
    }
   ],
   "source": [
    "for epoch in range(1):  # loop over the dataset multiple times\n",
    "\n",
    "    running_loss = 0.0\n",
    "    for i, data in enumerate(train_loader, 0):\n",
    "        # get the inputs; data is a list of [inputs, labels]\n",
    "        inputs = data[0]\n",
    "        labels = data[1]\n",
    "\n",
    "        # zero the parameter gradients\n",
    "        optimizer.zero_grad()\n",
    "\n",
    "        # forward + backward + optimize\n",
    "        outputs = model(inputs)\n",
    "        loss = loss_func(outputs, labels)\n",
    "        loss.backward()\n",
    "        optimizer.step()\n",
    "\n",
    "        # print statistics\n",
    "        running_loss += loss.item()\n",
    "        if i % 32 == 31:    # print every 2000 mini-batches\n",
    "            print(f'[{epoch + 1}, {i + 1:5d}] loss: {running_loss / 32:.3f}')\n",
    "            running_loss = 0.0\n",
    "PATH = './Trained_Model.pt'\n",
    "torch.save(model.state_dict(), PATH)\n",
    "model.load_state_dict(torch.load('./Trained_Model.pt'))\n",
    "# print('Finished Training')"
   ]
  },
  {
   "cell_type": "code",
   "execution_count": 21,
   "metadata": {},
   "outputs": [],
   "source": [
    "model.eval()\n",
    "class TestData(torch.utils.data.Dataset):\n",
    "    def __init__(self, set_X, transform = None):\n",
    "        self.transform = transform\n",
    "        self.X = set_X\n",
    "        \n",
    "    def __len__(self):\n",
    "        return len(self.X)\n",
    "    \n",
    "    def __getitem__(self, idx):\n",
    "        x = self.X[idx]\n",
    "        if self.transform:\n",
    "            return self.transform(torch.tensor(x).float())\n",
    "        return torch.tensor(x).float()\n",
    "\n",
    "with h5py.File(\"test.h5\", \"r\") as F:\n",
    "    data = np.array(F[\"X\"])\n",
    "    data = TestData((data[0][0].transpose(0,3,1,2)/255), transform=preprocess)\n",
    "    test_loader = torch.utils.data.DataLoader(data, batch_size=batch_size,\n",
    "    shuffle=False, num_workers=1, pin_memory=True)\n",
    "    for i, input in enumerate(test_loader,0):\n",
    "        x= i % 33\n",
    "        y= i //33\n",
    "        output = model(input[0])\n",
    "        output = torch.argmax(output, dim=1)\n",
    "        if (output[0].item() == 1 and output[1].item() == 1):\n",
    "            flag[x][y] = 100\n",
    "    plt.imshow(flag, cmap=\"gray\")\n",
    "    plt.show()\n",
    "        "
   ]
  }
 ],
 "metadata": {
  "deepnote": {},
  "deepnote_app_layout": "article",
  "deepnote_execution_queue": [],
  "deepnote_notebook_id": "19b7cbf3eabc432d8a95d377aff22e0c",
  "kernelspec": {
   "display_name": "Python 3",
   "language": "python",
   "name": "python3"
  },
  "language_info": {
   "codemirror_mode": {
    "name": "ipython",
    "version": 3
   },
   "file_extension": ".py",
   "mimetype": "text/x-python",
   "name": "python",
   "nbconvert_exporter": "python",
   "pygments_lexer": "ipython3",
   "version": "3.10.6"
  }
 },
 "nbformat": 4,
 "nbformat_minor": 1
}
